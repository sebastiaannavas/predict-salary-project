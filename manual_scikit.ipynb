{
 "cells": [
  {
   "cell_type": "code",
   "execution_count": 14,
   "id": "ced76b0b",
   "metadata": {
    "scrolled": true
   },
   "outputs": [
    {
     "name": "stdout",
     "output_type": "stream",
     "text": [
      "- Intercepto = 25792.200198668717\n",
      "- Pendiente  = 9449.962321455072\n"
     ]
    }
   ],
   "source": [
    "# FIT: get the coeficient that minimizes the mse the most\n",
    "\n",
    "# import required libraries\n",
    "import pandas as pd\n",
    "import numpy as np\n",
    "import matplotlib.pyplot as plt\n",
    "\n",
    "# load datasets from file CSV\n",
    "data = pd.read_csv('./salary_data.csv')\n",
    "\n",
    "# select inputs and outputs and convert to array\n",
    "x = np.array(data['YearsExperience']) \n",
    "y = np.array(data['Salary'])\n",
    "n = np.size(x)\n",
    "\n",
    "# calculate mean value for each data column\n",
    "x_mean = np.mean(x)\n",
    "y_mean = np.mean(y)\n",
    "\n",
    "# calculate sample covariance and sample variance\n",
    "Cxy = np.sum(x*y) - n * x_mean * y_mean\n",
    "Vxx = np.sum(x*x) - n * x_mean * x_mean\n",
    "\n",
    "# determine the coeficient and intercept\n",
    "slope = Cxy / Vxx\n",
    "intercept = y_mean - w * x_mean\n",
    "print(f\"- Intercepto = {intercept}\")\n",
    "print(f\"- Pendiente  = {slope}\")"
   ]
  },
  {
   "cell_type": "code",
   "execution_count": 20,
   "id": "ff824e3d",
   "metadata": {},
   "outputs": [
    {
     "name": "stdout",
     "output_type": "stream",
     "text": [
      "- Para 1.2 años de experiencia, el salario es: $37132.15\n"
     ]
    }
   ],
   "source": [
    "# PREDICT: estimate values with slope formula\n",
    "\n",
    "# x is the value or values to be determined\n",
    "def predict(w, b, x):\n",
    "    return w * x + b\n",
    "\n",
    "# individual prediction\n",
    "x = 1.2\n",
    "y_pred = predict(slope, intercept, 1.2)\n",
    "print(f\"- Para {x} años de experiencia, el salario es: ${'%.2f' % y_pred}\")\n",
    "\n",
    "# total prediction\n",
    "# y_pred = predict(slope, intercept, x)\n",
    "\n",
    "# plt.scatter(x, y, color = 'blue')  # actual\n",
    "# plt.plot(x, y_pred, color = 'red') # predicted\n",
    "# plt.xlabel('YearsExperience')\n",
    "# plt.ylabel('Salary')"
   ]
  },
  {
   "cell_type": "code",
   "execution_count": 7,
   "id": "8e3d27f9",
   "metadata": {},
   "outputs": [
    {
     "name": "stdout",
     "output_type": "stream",
     "text": [
      "- Error Cuadrático Medio = 31270951.722280957\n"
     ]
    }
   ],
   "source": [
    "# Calculate MSE:\n",
    "\n",
    "# difference between real data and estimated values\n",
    "error = y - y_pred\n",
    "# sum of squared errors\n",
    "se2 = np.sum(error ** 2)\n",
    "# divide by the size of series\n",
    "mse = se2 / n\n",
    "print(f\"- Error Cuadrático Medio = {mse}\")"
   ]
  },
  {
   "cell_type": "code",
   "execution_count": 13,
   "id": "9d245ee0",
   "metadata": {},
   "outputs": [
    {
     "name": "stdout",
     "output_type": "stream",
     "text": [
      "- Coeficiente de determinación = 0.9569566641435086\n"
     ]
    }
   ],
   "source": [
    "# Calculate coefficient of determination (quality of the model from 0 to 1)\n",
    "\n",
    "# divide sum of squared errors by sum of squares total\n",
    "sst = np.sum((y - y_mean)**2)\n",
    "r2 = 1 - (se2/sst)\n",
    "print(f\"- Coeficiente de determinación = {r2}\")"
   ]
  },
  {
   "cell_type": "code",
   "execution_count": null,
   "id": "b329ed44",
   "metadata": {},
   "outputs": [],
   "source": []
  }
 ],
 "metadata": {
  "kernelspec": {
   "display_name": "Python 3 (ipykernel)",
   "language": "python",
   "name": "python3"
  },
  "language_info": {
   "codemirror_mode": {
    "name": "ipython",
    "version": 3
   },
   "file_extension": ".py",
   "mimetype": "text/x-python",
   "name": "python",
   "nbconvert_exporter": "python",
   "pygments_lexer": "ipython3",
   "version": "3.10.2"
  }
 },
 "nbformat": 4,
 "nbformat_minor": 5
}
